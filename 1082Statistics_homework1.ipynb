{
  "nbformat": 4,
  "nbformat_minor": 0,
  "metadata": {
    "colab": {
      "name": "Statistics_Hypothesis_Test_practice.ipynb",
      "provenance": [],
      "collapsed_sections": [],
      "authorship_tag": "ABX9TyPJjaLjZBz3GkbtPUN3f0ns",
      "include_colab_link": true
    },
    "kernelspec": {
      "name": "python3",
      "display_name": "Python 3"
    }
  },
  "cells": [
    {
      "cell_type": "markdown",
      "metadata": {
        "id": "view-in-github",
        "colab_type": "text"
      },
      "source": [
        "<a href=\"https://colab.research.google.com/github/scwangkent/MyPython/blob/master/1082Statistics_homework1.ipynb\" target=\"_parent\"><img src=\"https://colab.research.google.com/assets/colab-badge.svg\" alt=\"Open In Colab\"/></a>"
      ]
    },
    {
      "cell_type": "code",
      "metadata": {
        "id": "cjY-uIQScduO",
        "colab_type": "code",
        "colab": {}
      },
      "source": [
        "import numpy as np\n",
        "import pandas as pd\n",
        "import matplotlib.pyplot as plt\n",
        "from scipy import stats\n"
      ],
      "execution_count": 0,
      "outputs": []
    },
    {
      "cell_type": "markdown",
      "metadata": {
        "id": "CLBDpViE98NQ",
        "colab_type": "text"
      },
      "source": [
        "$Z_{\\bar{X}_{1}-\\bar{X}_{2}}=\\frac{\\bar{X}_{1}-\\bar{X}_{2}}{\\sqrt{\\frac{\\sigma^2_1}{N_1}-\\frac{\\sigma^2_2}{N_2}}}$\n",
        "\n",
        "\n"
      ]
    },
    {
      "cell_type": "code",
      "metadata": {
        "id": "qLzk3EK0MwkI",
        "colab_type": "code",
        "colab": {}
      },
      "source": [
        "def Zx_x(X_1, sigma_1, N_1, X_2, sigma_2, N_2):\n",
        "  z = (X_1 - X_2)/ np.sqrt(((sigma_1**2)/N_1) +((sigma_2**2)/N_2))\n",
        "  return z"
      ],
      "execution_count": 0,
      "outputs": []
    },
    {
      "cell_type": "markdown",
      "metadata": {
        "id": "tsnCuQ1RjsSW",
        "colab_type": "text"
      },
      "source": [
        "$T_{\\bar{X}_{1}-\\bar{X}_{2}}$ with $S_{p}^{2}$\n",
        "$= \\frac{\\bar{X}_{1}-\\bar{X}_{2}}{\\sqrt{\\frac{S^2_p}{N_1}-\\frac{S^2_p}{N_2}}}$"
      ]
    },
    {
      "cell_type": "code",
      "metadata": {
        "id": "cqnROXnyjyrN",
        "colab_type": "code",
        "colab": {}
      },
      "source": [
        "def Tx_x_p(X_1, N_1, X_2, N_2, Sp2):\n",
        "  t = (X_1-X_2)/(Sp2 * np.sqrt(1/N_1 + 1/N_2))\n",
        "  return t"
      ],
      "execution_count": 0,
      "outputs": []
    },
    {
      "cell_type": "markdown",
      "metadata": {
        "colab_type": "text",
        "id": "SENQ8N6VXXlC"
      },
      "source": [
        "$T_{\\bar{X}_{1}-\\bar{X}_{2}}$ with $S_{1}^{2}$ & $S_{2}^{2}$\n",
        "$= \\frac{\\bar{X}_{1}-\\bar{X}_{2}}{\\sqrt{\\frac{S^2_1}{N_1}-\\frac{S^2_2}{N_2}}}$"
      ]
    },
    {
      "cell_type": "code",
      "metadata": {
        "colab_type": "code",
        "id": "5kkd4ciYXxnQ",
        "colab": {}
      },
      "source": [
        "def Tx_x_12(X_1, N_1, X_2, N_2,S_1, S_2):\n",
        "  t = (X_1-X_2)/(np.sqrt(S_1**2/N_1 + S_2**2/N_2))\n",
        "  return t"
      ],
      "execution_count": 0,
      "outputs": []
    },
    {
      "cell_type": "markdown",
      "metadata": {
        "id": "N3Yvc50PYDZy",
        "colab_type": "text"
      },
      "source": [
        "$df$ with varience unequal and unknown = $\\frac{((s_1^2)+n_1 +(s_2^2)/n_2^2}{(s_1^2/n_1 )^2/(n_1−1)+(s_2^2/n_2 )^2/(n_2−1)}$ "
      ]
    },
    {
      "cell_type": "code",
      "metadata": {
        "id": "6ilPRHD_Ygs8",
        "colab_type": "code",
        "colab": {}
      },
      "source": [
        "def df_c(s_1,s_2,n_1,n_2):\n",
        "  df = ((s_1**2)/n_1 +(s_2**2)/n_2 )**2/((s_1**2/n_1 )**2/(n_1-1)+(s_2**2/n_2 )**2/(n_2-1))\n",
        "  return df"
      ],
      "execution_count": 0,
      "outputs": []
    },
    {
      "cell_type": "markdown",
      "metadata": {
        "id": "y3v75xDckL7t",
        "colab_type": "text"
      },
      "source": [
        "$S_p^2 = \\frac{(N_1-1)^2 +(N_2-1)^2}{N_1+N_2-2} $ "
      ]
    },
    {
      "cell_type": "code",
      "metadata": {
        "id": "b_Le3IsykUK1",
        "colab_type": "code",
        "colab": {}
      },
      "source": [
        "def findSp2(s_1, s_2, n_1, n_2):\n",
        "  Sp2 = ((n_1-1)*s_1**2 + (n_2 -1)*s_2**2)/n_1 +n_2 -2 \n",
        "  return Sp2"
      ],
      "execution_count": 0,
      "outputs": []
    },
    {
      "cell_type": "markdown",
      "metadata": {
        "id": "5pYKn1lvjPZT",
        "colab_type": "text"
      },
      "source": [
        "Paired $T = \\frac{\\bar{d}-D_0}{s_d/\\sqrt{n}}$"
      ]
    },
    {
      "cell_type": "code",
      "metadata": {
        "id": "ymw128NRjs54",
        "colab_type": "code",
        "colab": {}
      },
      "source": [
        "def pT(d, D_0, sd, n):\n",
        "  t = (d -D_0)/(sd/np.sqrt(n))\n",
        "  return t"
      ],
      "execution_count": 0,
      "outputs": []
    },
    {
      "cell_type": "markdown",
      "metadata": {
        "id": "VEKVZwqX0XGh",
        "colab_type": "text"
      },
      "source": [
        ""
      ]
    },
    {
      "cell_type": "code",
      "metadata": {
        "id": "7Ox5YCjs0XRU",
        "colab_type": "code",
        "colab": {}
      },
      "source": [
        "def "
      ],
      "execution_count": 0,
      "outputs": []
    },
    {
      "cell_type": "markdown",
      "metadata": {
        "id": "O3if0SLR7j5H",
        "colab_type": "text"
      },
      "source": [
        "![t](https://miro.medium.com/max/1646/1*0_EW4xt4le_SIrmO7z9FPA.png)"
      ]
    },
    {
      "cell_type": "markdown",
      "metadata": {
        "id": "uNbDMhjFH-Av",
        "colab_type": "text"
      },
      "source": [
        "CDF means \"Cumulative Density Function（累積密度公式）\", which is \"give the point then it will return you the cumulative density of the point\", 由PDF (Probability Density Function)積分來\n",
        "\n",
        "PPF means \"Percent Point Function（Quantile Function 分位函數）\" 即給定累計機率，得出該點"
      ]
    },
    {
      "cell_type": "markdown",
      "metadata": {
        "id": "RMoQCwQ4LrLB",
        "colab_type": "text"
      },
      "source": [
        "#Matplotlib"
      ]
    },
    {
      "cell_type": "code",
      "metadata": {
        "id": "RZOp-SwANi2Q",
        "colab_type": "code",
        "outputId": "b9bbaad1-f4e3-41e8-8f77-a8a9cbd4eec1",
        "colab": {
          "base_uri": "https://localhost:8080/",
          "height": 281
        }
      },
      "source": [
        "# Generate some data for this demonstration.\n",
        "data = stats.norm.rvs(10.0, 2.5, size=500)\n",
        "\n",
        "# Fit a normal distribution to the data:\n",
        "mu, std = stats.norm.fit(data)\n",
        "\n",
        "# Plot the histogram.\n",
        "plt.hist(data, bins=25, density=True, alpha=0.6, color='g')\n",
        "\n",
        "# Plot the PDF.\n",
        "xmin, xmax = plt.xlim()\n",
        "x = np.linspace(xmin, xmax, 100)\n",
        "p = stats.norm.pdf(x, mu, std)\n",
        "plt.plot(x, p, 'k', linewidth=2)\n",
        "title = \"Fit results: mu = %.2f,  std = %.2f\" % (mu, std)\n",
        "plt.title(title)\n",
        "\n",
        "plt.show()"
      ],
      "execution_count": 0,
      "outputs": [
        {
          "output_type": "display_data",
          "data": {
            "image/png": "[encoded data removed]",
            "text/plain": [
              "<Figure size 432x288 with 1 Axes>"
            ]
          },
          "metadata": {
            "tags": []
          }
        }
      ]
    },
    {
      "cell_type": "code",
      "metadata": {
        "id": "mQcJOIEQP87h",
        "colab_type": "code",
        "colab": {}
      },
      "source": [
        "np.linspace?"
      ],
      "execution_count": 0,
      "outputs": []
    },
    {
      "cell_type": "markdown",
      "metadata": {
        "id": "NhsMygAQ80Uf",
        "colab_type": "text"
      },
      "source": [
        "#例題\n",
        "1. Do married and unmarried women spend the same amount of time per week using Facebook? A random sample of 45 married women who use Facebook spent an average of 3.0 hours per week on this social media website. A random sample of 39 unmarried women who regularly use Facebook spent an average of 3.4 hours per week. Assume that the weekly Facebook time for married women has a popu- lation standard deviation of 1.2 hours, and the population standard deviation for unmarried, regular Facebook users is 1.1 hours per week. Using the .05 signifi- cance level, do married and unmarried women differ in the amount of time per week spent on Facebook? Find the p-value and interpret the result."
      ]
    },
    {
      "cell_type": "code",
      "metadata": {
        "id": "r52AAb5a2Amz",
        "colab_type": "code",
        "outputId": "545fc01d-624d-420e-bf3f-0dd10e478363",
        "colab": {
          "base_uri": "https://localhost:8080/",
          "height": 51
        }
      },
      "source": [
        "N_1=40\n",
        "sigma_1=5\n",
        "X_1=102 \n",
        "N_2=50\n",
        "sigma_2=6\n",
        "X_2=99\n",
        "alpha=0.04\n",
        "z= Zx_x(X_1, sigma_1, N_1, X_2, sigma_2, N_2)\n",
        "critical_value = stats.norm.ppf(alpha/2)\n",
        "print(\"z = \",z)\n",
        "print('critical_value = ',critical_value)\n"
      ],
      "execution_count": 0,
      "outputs": [
        {
          "output_type": "stream",
          "text": [
            "z =  2.586783681355361\n",
            "critical_value =  -2.053748910631823\n"
          ],
          "name": "stdout"
        }
      ]
    },
    {
      "cell_type": "code",
      "metadata": {
        "id": "jjORraKHMJZC",
        "colab_type": "code",
        "outputId": "6f73d724-ecd7-4024-80a3-899553cd71f2",
        "colab": {
          "base_uri": "https://localhost:8080/",
          "height": 34
        }
      },
      "source": [
        "stats.norm.ppf(alpha/2)"
      ],
      "execution_count": 0,
      "outputs": [
        {
          "output_type": "execute_result",
          "data": {
            "text/plain": [
              "-2.053748910631823"
            ]
          },
          "metadata": {
            "tags": []
          },
          "execution_count": 43
        }
      ]
    },
    {
      "cell_type": "markdown",
      "metadata": {
        "id": "ZmHZxAShbqnW",
        "colab_type": "text"
      },
      "source": [
        "2. "
      ]
    },
    {
      "cell_type": "code",
      "metadata": {
        "id": "pQWmyeRfBRNz",
        "colab_type": "code",
        "outputId": "428d2ac7-819b-4d2e-dad5-fe2cf4c8c4be",
        "colab": {
          "base_uri": "https://localhost:8080/",
          "height": 51
        }
      },
      "source": [
        "N_1=35\n",
        "sigma_1=30\n",
        "X_1=370 \n",
        "N_2=40\n",
        "sigma_2=26\n",
        "X_2=380\n",
        "alpha=0.05\n",
        "z= Zx_x(X_1, sigma_1, N_1, X_2, sigma_2, N_2)\n",
        "critical_value = stats.norm.ppf(alpha/2)\n",
        "print(\"z = \",z)\n",
        "print('critical_value = ',critical_value)"
      ],
      "execution_count": 0,
      "outputs": [
        {
          "output_type": "stream",
          "text": [
            "z =  -1.5318717010511667\n",
            "critical_value =  -1.9599639845400545\n"
          ],
          "name": "stdout"
        }
      ]
    },
    {
      "cell_type": "markdown",
      "metadata": {
        "id": "urGveMsMfFaa",
        "colab_type": "text"
      },
      "source": [
        "3. "
      ]
    },
    {
      "cell_type": "code",
      "metadata": {
        "id": "oBGSvqG5b4D9",
        "colab_type": "code",
        "outputId": "cf649cc3-f98c-4bb8-af32-8d9870334d86",
        "colab": {
          "base_uri": "https://localhost:8080/",
          "height": 68
        }
      },
      "source": [
        "N_1=45\n",
        "sigma_1=1.2\n",
        "X_1=3\n",
        "N_2=39\n",
        "sigma_2=1.1\n",
        "X_2=3.4\n",
        "alpha=0.05\n",
        "z= z_test(X_1, sigma_1, N_1, X_2, sigma_2, N_2)\n",
        "critical_value = stats.norm.ppf(alpha/2)\n",
        "pvalue= stats.norm.cdf(z)*2\n",
        "print(\"z = \",z)\n",
        "print('critical_value = ',critical_value)\n",
        "print(\"p-value = \",pvalue)"
      ],
      "execution_count": 0,
      "outputs": [
        {
          "output_type": "stream",
          "text": [
            "z =  -1.5933139390530655\n",
            "critical_value =  -1.9599639845400545\n",
            "p-value =  0.111089781210938\n"
          ],
          "name": "stdout"
        }
      ]
    },
    {
      "cell_type": "markdown",
      "metadata": {
        "id": "3l2LiSdvg85_",
        "colab_type": "text"
      },
      "source": [
        "4. "
      ]
    },
    {
      "cell_type": "code",
      "metadata": {
        "id": "d6xmJCl0fWe_",
        "colab_type": "code",
        "colab": {}
      },
      "source": [
        "N_1=45\n",
        "sigma_1=1.2\n",
        "X_1=3\n",
        "N_2=39\n",
        "sigma_2=1.1\n",
        "X_2=3.4\n",
        "alpha=0.05\n",
        "z= Zx_x(X_1, sigma_1, N_1, X_2, sigma_2, N_2)\n",
        "critical_value = stats.norm.ppf(alpha/2)\n",
        "pvalue= stats.norm.cdf(z)*2\n",
        "print(\"z = \",z)\n",
        "print('critical_value = ',critical_value)\n",
        "print(\"p-value = \",pvalue)"
      ],
      "execution_count": 0,
      "outputs": []
    },
    {
      "cell_type": "markdown",
      "metadata": {
        "id": "0HEkT7n4hdrD",
        "colab_type": "text"
      },
      "source": [
        "11. \n",
        "\n",
        "Ms. Lisa Monnin is the budget director for Nexus Media Inc. She would like to compare the daily travel expenses for the sales staff and the audit staff. She col- lected the following sample information. \n",
        "\n",
        "  At the .10 significance level, can she conclude that the mean daily expenses are greater for the sales staff than the audit staff? What is the p-value?\n",
        "\n",
        "```\n",
        "  Sales 131 135 146 165 136 142 \n",
        "  Audit 130 102 129 143 149 120 139\n",
        "```\n",
        "\n"
      ]
    },
    {
      "cell_type": "code",
      "metadata": {
        "id": "dmGi_fDFeuKB",
        "colab_type": "code",
        "outputId": "920a1f07-10b0-415e-bfa7-58ce2f8e3785",
        "colab": {
          "base_uri": "https://localhost:8080/",
          "height": 68
        }
      },
      "source": [
        "sales = [131, 135, 146, 165, 136, 142]\n",
        "audit = [130, 102, 129, 143, 149, 120, 139]\n",
        "\n",
        "l_1 = sales\n",
        "l_2 = audit\n",
        "sr_1 = pd.Series(l_1)\n",
        "sr_2 = pd.Series(l_2)\n",
        "\n",
        "alpha = 0.1\n",
        "df = sr_1.count() + sr_2.count() -2\n",
        "print('df=',df)\n",
        "#雙尾檢定alpha/2 （機率各半）\n",
        "cn = stats.t.ppf(alpha/2,df =df )\n",
        "print(\"critical number = \", cn)\n",
        "#critical number = \n",
        "\n",
        "#H_0: mu_1 <= mu_2 \n",
        "#H_1: mu_1 > mu_2\n",
        "#     mu_1 - mu_2 > 0\n",
        "\n",
        "X_1 = sr_1.mean()\n",
        "X_2 = sr_2.mean()\n",
        "N_1 = sr_1.count()\n",
        "N_2 = sr_2.count()\n",
        "S_1 = sr_1.std()\n",
        "S_2 = sr_2.std()\n",
        "\n",
        "Sp2 = findSp2(S_1,S_2,N_1,N_2)\n",
        "t = Tx_x_p(X_1,N_1,X_2,N_2,Sp2)\n",
        "\n",
        "print(t)\n",
        "\n"
      ],
      "execution_count": 0,
      "outputs": [
        {
          "output_type": "stream",
          "text": [
            "df= 11\n",
            "critical number =  -1.7958848187036696\n",
            "0.05790346178303956\n"
          ],
          "name": "stdout"
        }
      ]
    },
    {
      "cell_type": "code",
      "metadata": {
        "id": "5QXNWIzuiP5i",
        "colab_type": "code",
        "colab": {}
      },
      "source": [
        ""
      ],
      "execution_count": 0,
      "outputs": []
    },
    {
      "cell_type": "markdown",
      "metadata": {
        "id": "jo71vI7XWZ_T",
        "colab_type": "text"
      },
      "source": [
        "Personnel in a consumer testing laboratory are evaluating the absorbency of paper towels. They wish to compare a set of store brand towels to a similar group of name brand ones. For each brand they dip a ply of the paper into a tub of fluid, allow the paper to drain back into the vat for 2 minutes, and then evaluate the amount of  liquid the paper has taken up from the vat. A random sample of nine store brand paper towels absorbed the following amounts of liquid in milliliters.\n",
        "\n",
        "```\n",
        "8  8  3  1  9  7  5  5  12 \n",
        "```\n",
        "\n",
        " An independent random sample of 12 name brand towels absorbed the following amounts of liquid in milliliters:\n",
        "```\n",
        "12  11  10  6  8  9  9  10  11  9  8  10 \n",
        "```\n",
        "\n",
        " Use the .10 significance level and test if there is a difference in the mean amount of liquid absorbed by the two types of paper towels.\n"
      ]
    },
    {
      "cell_type": "code",
      "metadata": {
        "id": "tXpzslPaWoEZ",
        "colab_type": "code",
        "outputId": "4eee59fa-cb2c-4196-d807-283c92e1d4ea",
        "colab": {
          "base_uri": "https://localhost:8080/",
          "height": 85
        }
      },
      "source": [
        "l1 = [8,  8,  3,  1,  9,  7,  5,  5,  12]\n",
        "l2 = [12,  11,  10,  6,  8,  9,  9,  10,  11,  9,  8,  10]\n",
        "alpha = 0.1\n",
        "sr_1 = pd.Series(l1)\n",
        "sr_2 = pd.Series(l2)\n",
        "df = df_c(sr_1.std(),sr_2.std(),sr_1.count(),sr_2.count())\n",
        "print(\"df =\",df)\n",
        "t = Tx_x_12(sr_1.mean(),sr_1.count(),sr_2.mean(),sr_2.count(),sr_1.std(),sr_2.std())\n",
        "print(\"t = \",t)\n",
        "cn = stats.t.ppf(alpha/2,df =df)\n",
        "print(\"cn = \",cn)\n",
        "p = stats.t.cdf(t,df = df)\n",
        "print(\"p-value = \",p*2)"
      ],
      "execution_count": 0,
      "outputs": [
        {
          "output_type": "stream",
          "text": [
            "df = 10.863713168900466\n",
            "t =  -2.4730984255477373\n",
            "cn =  -1.7979487131874072\n",
            "p-value =  0.031197228864588623\n"
          ],
          "name": "stdout"
        }
      ]
    },
    {
      "cell_type": "markdown",
      "metadata": {
        "id": "sO-Prylyg34l",
        "colab_type": "text"
      },
      "source": [
        "Recall that Nickel Savings and Loan wishes to compare the two companies it uses to appraise the value of residential homes. Nickel Savings selected a sample of 10 residential properties and scheduled both firms for an appraisal. The results, reported in $000, are: Home Schadek Bowyer \n",
        "\n",
        "* A 235 228\n",
        "* B 210 205\n",
        "* C 231 219\n",
        "* D 242 240\n",
        "* E 205 198\n",
        "* F 230 223\n",
        "* G 231 227\n",
        "* H 210 215\n",
        "* I 225 222\n",
        "* J 249 245\n",
        "\n",
        "At the .05 significance level, can we conclude there is a difference between the firms’ mean appraised home values?"
      ]
    },
    {
      "cell_type": "code",
      "metadata": {
        "id": "SnWhCmUyW5F0",
        "colab_type": "code",
        "outputId": "3adad658-849e-4a95-96e3-c9f811df9041",
        "colab": {
          "base_uri": "https://localhost:8080/",
          "height": 289
        }
      },
      "source": [
        "sr_s = pd.Series([235,210,231,242,205,230,231,210,225,249])\n",
        "sr_b = pd.Series([228,205,219,240,198,223,227,215,222,245])\n",
        "sr_d = sr_s-sr_b\n",
        "alpha = 0.05\n",
        "df = sr_d.count() - 1\n",
        "cn = stats.t.ppf(alpha/2,df)\n",
        "t = pT(sr_d.mean(),0,sr_d.std(),sr_d.count())\n",
        "p = stats.t.cdf(t,df)\n",
        "print(\"d = \\n\",sr_d)\n",
        "print('df = ',df)\n",
        "print('cn = ',cn)\n",
        "print('t = ',t)\n",
        "print('p = ',p)"
      ],
      "execution_count": 0,
      "outputs": [
        {
          "output_type": "stream",
          "text": [
            "d = \n",
            " 0     7\n",
            "1     5\n",
            "2    12\n",
            "3     2\n",
            "4     7\n",
            "5     7\n",
            "6     4\n",
            "7    -5\n",
            "8     3\n",
            "9     4\n",
            "dtype: int64\n",
            "df =  9\n",
            "cn =  -2.262157162740992\n",
            "t =  3.3045006840129725\n",
            "p =  0.9954180499145497\n"
          ],
          "name": "stdout"
        }
      ]
    },
    {
      "cell_type": "markdown",
      "metadata": {
        "id": "DOzxZKtKh9Bl",
        "colab_type": "text"
      },
      "source": [
        "$H_0:\\mu_d=0$\n",
        "\n",
        "$H_1:\\mu_d\\neq0$"
      ]
    },
    {
      "cell_type": "code",
      "metadata": {
        "id": "6aT0zyaVhy2w",
        "colab_type": "code",
        "colab": {}
      },
      "source": [
        ""
      ],
      "execution_count": 0,
      "outputs": []
    },
    {
      "cell_type": "markdown",
      "metadata": {
        "id": "kUfNfpP2TPSL",
        "colab_type": "text"
      },
      "source": [
        "18.The null and alternate hypotheses are:\n",
        "\n",
        "\n",
        "$H_0: \\mu_d = 0 $\n",
        "\n",
        "$H_1: \\mu_d ≠ 0 $\n",
        "\n",
        " The following paired observations show the number of traffic citations given for speeding by Officer Dhondt and Officer Meredith of the South Carolina Highway Patrol for the last five months.\n",
        "\n",
        "  \n",
        "  |Number of Citations Issued|May| June| July| August| September|\n",
        "  |-|-|-|-|-|-|\n",
        "  |Officer Dhondt|30| 22| 25 |19| 26| \n",
        "  |Officer Meredith|26 |19| 20 |15| 19|\n",
        "  \n",
        "  \n",
        "\n",
        "  At the .05 significance level, is there a difference in the mean number of citations given by the two officers?"
      ]
    },
    {
      "cell_type": "code",
      "metadata": {
        "id": "5HXwUhsHTSxa",
        "colab_type": "code",
        "outputId": "adca0670-237b-4692-a520-5ba959901be4",
        "colab": {
          "base_uri": "https://localhost:8080/",
          "height": 204
        }
      },
      "source": [
        "Dh = pd.Series([30,22,25,19,26])\n",
        "Me = pd.Series([26,19,20,15,19])\n",
        "d = Dh-Me\n",
        "df = d.count()-1\n",
        "alpha = 0.05\n",
        "cn = stats.t.ppf(alpha/2,df)\n",
        "t = pT(d.mean(),0,d.std(),df)\n",
        "\n",
        "print('d = \\n',d)\n",
        "print('cn = ',cn)\n",
        "print('d bar = ',d.mean())\n",
        "print('s_d = ',d.std())\n",
        "print('t = ',t)"
      ],
      "execution_count": 0,
      "outputs": [
        {
          "output_type": "stream",
          "text": [
            "d = \n",
            " 0    4\n",
            "1    3\n",
            "2    5\n",
            "3    4\n",
            "4    7\n",
            "dtype: int64\n",
            "cn =  -2.7764451051977996\n",
            "d bar =  4.6\n",
            "s_d =  1.51657508881031\n",
            "t =  6.06630035524124\n"
          ],
          "name": "stdout"
        }
      ]
    },
    {
      "cell_type": "code",
      "metadata": {
        "id": "1cOdtGTcoVkV",
        "colab_type": "code",
        "colab": {}
      },
      "source": [
        ""
      ],
      "execution_count": 0,
      "outputs": []
    }
  ]
}